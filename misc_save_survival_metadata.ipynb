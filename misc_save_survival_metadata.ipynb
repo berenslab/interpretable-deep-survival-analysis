{
 "cells": [
  {
   "cell_type": "markdown",
   "metadata": {},
   "source": [
    "#### Creates metadata file of images used for model training from the parsed and filtered dataset."
   ]
  },
  {
   "cell_type": "code",
   "execution_count": 1,
   "metadata": {},
   "outputs": [],
   "source": [
    "# auto reload modules\n",
    "%load_ext autoreload\n",
    "%autoreload 2"
   ]
  },
  {
   "cell_type": "code",
   "execution_count": 2,
   "metadata": {},
   "outputs": [],
   "source": [
    "import pandas as pd\n",
    "import numpy as np\n",
    "from utils.helpers import get_areds_data_dir\n",
    "from utils.create_survival_data import get_survival_data\n",
    "from pathlib import Path"
   ]
  },
  {
   "cell_type": "code",
   "execution_count": 4,
   "metadata": {},
   "outputs": [],
   "source": [
    "# Parsed and filtered metadata file from AREDS, relative to the data root as specified in configs/dirs.yml\n",
    "FILTERED_METADATA_CSV = \"data_processed/metadata/image_level_metadata_filtered.csv\"\n",
    "\n",
    "visit_numbers = None\n",
    "remove_odd_visits = False\n",
    "event_grade = 9 # This is the zero-based AREDS severity score, i.e. 9 and above is late AMD\n",
    "keep_metadata = True\n",
    "data_root = Path(get_areds_data_dir(scratch=True))\n",
    "metadata_csv = data_root.joinpath(FILTERED_METADATA_CSV)"
   ]
  },
  {
   "cell_type": "code",
   "execution_count": 5,
   "metadata": {},
   "outputs": [
    {
     "name": "stdout",
     "output_type": "stream",
     "text": [
      "length of parsed and filtered data:  133293\n"
     ]
    }
   ],
   "source": [
    "print(\"length of parsed and filtered data: \", len(pd.read_csv(metadata_csv)))"
   ]
  },
  {
   "cell_type": "markdown",
   "metadata": {},
   "source": [
    "Decide on metadata file to create (i.e., normal (one view per eye) or with stereo pairs) <br>\n",
    "Uncomment the appropriate code block and run the notebook."
   ]
  },
  {
   "cell_type": "code",
   "execution_count": 6,
   "metadata": {},
   "outputs": [],
   "source": [
    "# Standard metadata. For all except the stereo pair model (Babenko et al.)\n",
    "filename = \"metadata_surv.csv\"\n",
    "keep_stereo_pairs = False\n",
    "delete_initial_converters = False\n",
    "shift_odd_visits = False\n",
    "keep_converted = False\n",
    "\n",
    "# # Stereo pair version for Babenko et al.\n",
    "# filename = \"metadata_surv_stereo.csv\"\n",
    "# keep_stereo_pairs = True\n",
    "# delete_initial_converters = False\n",
    "# shift_odd_visits = False\n",
    "# keep_converted = False"
   ]
  },
  {
   "cell_type": "code",
   "execution_count": 1,
   "metadata": {},
   "outputs": [],
   "source": [
    "drop_after_event = False if \"keep_converted\" in locals() and keep_converted else True\n",
    "\n",
    "df_surv = get_survival_data(\n",
    "        metadata_csv.__str__(),\n",
    "        event_grade=event_grade,\n",
    "        remove_odd_visits=remove_odd_visits,\n",
    "        visit_numbers=visit_numbers,\n",
    "        impute=True if keep_metadata else False,\n",
    "        absolute_durations=False,\n",
    "        drop_after_event=drop_after_event,\n",
    "        keep_stereo_pairs=keep_stereo_pairs,\n",
    "    )\n",
    "\n",
    "if not drop_after_event: # keeping converted\n",
    "    df_surv.loc[df_surv[\"duration\"] < 0, \"duration\"] = 0\n",
    "\n",
    "if delete_initial_converters:\n",
    "    df_surv = df_surv[\n",
    "        ~((df_surv[\"event\"] == 1) & (df_surv[\"duration\"] == 0))\n",
    "    ]\n",
    "\n",
    "if shift_odd_visits:\n",
    "    # add 1 to all odd durations -> Converted in the time until the next even visit\n",
    "    df_surv.loc[df_surv[\"duration\"] % 2 == 1, \"duration\"] += 1"
   ]
  },
  {
   "cell_type": "code",
   "execution_count": 8,
   "metadata": {},
   "outputs": [
    {
     "data": {
      "text/html": [
       "<div>\n",
       "<style scoped>\n",
       "    .dataframe tbody tr th:only-of-type {\n",
       "        vertical-align: middle;\n",
       "    }\n",
       "\n",
       "    .dataframe tbody tr th {\n",
       "        vertical-align: top;\n",
       "    }\n",
       "\n",
       "    .dataframe thead th {\n",
       "        text-align: right;\n",
       "    }\n",
       "</style>\n",
       "<table border=\"1\" class=\"dataframe\">\n",
       "  <thead>\n",
       "    <tr style=\"text-align: right;\">\n",
       "      <th></th>\n",
       "      <th>patient_id</th>\n",
       "      <th>event</th>\n",
       "      <th>duration</th>\n",
       "    </tr>\n",
       "  </thead>\n",
       "  <tbody>\n",
       "    <tr>\n",
       "      <th>0</th>\n",
       "      <td>1001_left_RS</td>\n",
       "      <td>False</td>\n",
       "      <td>16</td>\n",
       "    </tr>\n",
       "    <tr>\n",
       "      <th>1</th>\n",
       "      <td>1001_right_LS</td>\n",
       "      <td>False</td>\n",
       "      <td>16</td>\n",
       "    </tr>\n",
       "    <tr>\n",
       "      <th>2</th>\n",
       "      <td>1001_left_LS</td>\n",
       "      <td>False</td>\n",
       "      <td>14</td>\n",
       "    </tr>\n",
       "    <tr>\n",
       "      <th>3</th>\n",
       "      <td>1001_right_LS</td>\n",
       "      <td>False</td>\n",
       "      <td>14</td>\n",
       "    </tr>\n",
       "    <tr>\n",
       "      <th>4</th>\n",
       "      <td>1001_left_RS</td>\n",
       "      <td>False</td>\n",
       "      <td>12</td>\n",
       "    </tr>\n",
       "  </tbody>\n",
       "</table>\n",
       "</div>"
      ],
      "text/plain": [
       "      patient_id  event  duration\n",
       "0   1001_left_RS  False        16\n",
       "1  1001_right_LS  False        16\n",
       "2   1001_left_LS  False        14\n",
       "3  1001_right_LS  False        14\n",
       "4   1001_left_RS  False        12"
      ]
     },
     "execution_count": 8,
     "metadata": {},
     "output_type": "execute_result"
    }
   ],
   "source": [
    "df_surv[[\"patient_id\", \"event\", \"duration\"]].head()"
   ]
  },
  {
   "cell_type": "code",
   "execution_count": 9,
   "metadata": {},
   "outputs": [
    {
     "data": {
      "text/plain": [
       "52544"
      ]
     },
     "execution_count": 9,
     "metadata": {},
     "output_type": "execute_result"
    }
   ],
   "source": [
    "len(df_surv)"
   ]
  },
  {
   "cell_type": "code",
   "execution_count": 10,
   "metadata": {},
   "outputs": [
    {
     "data": {
      "image/png": "[encoded data removed]",
      "text/plain": [
       "<Figure size 640x480 with 1 Axes>"
      ]
     },
     "metadata": {},
     "output_type": "display_data"
    }
   ],
   "source": [
    "# Plot the distribution of the duration by converter status\n",
    "for event in df_surv[\"event\"].unique():\n",
    "    df_surv[df_surv[\"event\"] == event][\"duration\"].hist()"
   ]
  },
  {
   "cell_type": "code",
   "execution_count": 11,
   "metadata": {},
   "outputs": [
    {
     "data": {
      "text/plain": [
       "False    48636\n",
       "True      3908\n",
       "Name: event, dtype: int64"
      ]
     },
     "execution_count": 11,
     "metadata": {},
     "output_type": "execute_result"
    }
   ],
   "source": [
    "df_surv[\"event\"].value_counts()"
   ]
  },
  {
   "cell_type": "code",
   "execution_count": 12,
   "metadata": {},
   "outputs": [],
   "source": [
    "# Shuffle the data but alternate between converters and non-converters. Good for testing runs with subset of data\n",
    "df_surv_converters = df_surv[df_surv[\"event\"] == True].sample(frac=1, random_state=42).reset_index(drop=True)\n",
    "df_surv_converters.index = np.arange(1, len(df_surv_converters)*2, 2)\n",
    "\n",
    "df_surv_non_converters = df_surv[df_surv[\"event\"] == False].sample(frac=1, random_state=42).reset_index(drop=True)\n",
    "df_surv_non_converters.index = np.arange(0, len(df_surv_non_converters)*2, 2)\n",
    "\n",
    "df_surv = pd.concat([df_surv_converters, df_surv_non_converters]).sort_index()"
   ]
  },
  {
   "cell_type": "markdown",
   "metadata": {},
   "source": [
    "Save dataset"
   ]
  },
  {
   "cell_type": "code",
   "execution_count": 13,
   "metadata": {},
   "outputs": [],
   "source": [
    "df_surv.to_csv(f'data/{filename}')"
   ]
  },
  {
   "cell_type": "markdown",
   "metadata": {},
   "source": [
    "#### (Optional) Load and check if IPCW can be computed: <br>Estimation of censoring distribution, needed as weight for censoring adjusted metrics from sksurv"
   ]
  },
  {
   "cell_type": "code",
   "execution_count": 14,
   "metadata": {},
   "outputs": [],
   "source": [
    "from data.cnn_surv_dataloader import get_dataset\n",
    "from utils.helpers import get_config\n",
    "from utils.cnn_survival_utils import check_ipcw_calc\n",
    "import pandas as pd"
   ]
  },
  {
   "cell_type": "code",
   "execution_count": 15,
   "metadata": {},
   "outputs": [],
   "source": [
    "df_surv = pd.read_csv(f'data/{filename}')"
   ]
  },
  {
   "cell_type": "code",
   "execution_count": 16,
   "metadata": {},
   "outputs": [],
   "source": [
    "c = get_config(\"sparsebagnet_cox.yml\")\n",
    "c.metadata_csv = f'data/{filename}'\n",
    "c.cnn.gpu = 0\n",
    "c.cnn.test_run[\"enabled\"] = False\n",
    "c.cnn.train_set_fraction = 1.0\n",
    "c.cnn.val_set_fraction = 1.0"
   ]
  },
  {
   "cell_type": "code",
   "execution_count": 17,
   "metadata": {},
   "outputs": [
    {
     "name": "stdout",
     "output_type": "stream",
     "text": [
      "Len data (Number of images in train split): 31459\n",
      "Len data (Number of images in val split): 10496\n",
      "Len data (Number of images in test split): 10589\n"
     ]
    }
   ],
   "source": [
    "y_train_set = get_dataset(split=\"train\", c=c)\n",
    "y_val_set = get_dataset(split=\"val\", c=c)\n",
    "y_test_set = get_dataset(split=\"test\", c=c)\n",
    "\n",
    "y_survival = {\n",
    "    \"train\": y_train_set.get_e_t(),\n",
    "    \"val\": y_val_set.get_e_t(),\n",
    "    \"test\": y_test_set.get_e_t(),\n",
    "}"
   ]
  },
  {
   "cell_type": "code",
   "execution_count": 19,
   "metadata": {},
   "outputs": [],
   "source": [
    "df_y_train = pd.DataFrame(y_train_set._e.numpy(), columns=[\"event\"])\n",
    "df_y_train[\"duration\"] = y_train_set._t.numpy()\n",
    "df_y_val = pd.DataFrame(y_val_set._e.numpy(), columns=[\"event\"])\n",
    "df_y_val[\"duration\"] = y_val_set._t.numpy()\n",
    "df_y_test = pd.DataFrame(y_test_set._e.numpy(), columns=[\"event\"])\n",
    "df_y_test[\"duration\"] = y_test_set._t.numpy()\n"
   ]
  },
  {
   "cell_type": "code",
   "execution_count": 24,
   "metadata": {},
   "outputs": [
    {
     "name": "stdout",
     "output_type": "stream",
     "text": [
      "max time train 24.0\n"
     ]
    }
   ],
   "source": [
    "assert check_ipcw_calc(y_survival[\"train\"], y_survival[\"val\"]), \"Error, IPCW calculation failed\""
   ]
  },
  {
   "cell_type": "code",
   "execution_count": null,
   "metadata": {},
   "outputs": [],
   "source": []
  }
 ],
 "metadata": {
  "kernelspec": {
   "display_name": "base",
   "language": "python",
   "name": "python3"
  },
  "language_info": {
   "codemirror_mode": {
    "name": "ipython",
    "version": 3
   },
   "file_extension": ".py",
   "mimetype": "text/x-python",
   "name": "python",
   "nbconvert_exporter": "python",
   "pygments_lexer": "ipython3",
   "version": "3.9.5"
  },
  "orig_nbformat": 4
 },
 "nbformat": 4,
 "nbformat_minor": 2
}
